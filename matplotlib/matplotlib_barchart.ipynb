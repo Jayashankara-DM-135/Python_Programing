{
 "cells": [
  {
   "cell_type": "raw",
   "metadata": {},
   "source": [
    "We will learn Bar chart in this section"
   ]
  },
  {
   "cell_type": "code",
   "execution_count": null,
   "metadata": {},
   "outputs": [],
   "source": [
    "%matplotlib inline\n"
   ]
  },
  {
   "cell_type": "code",
   "execution_count": null,
   "metadata": {},
   "outputs": [],
   "source": [
    "from matplotlib import pyplot as plt\n",
    "plt.style.use('fivethirtyeight')\n",
    "\n",
    "# Median Developer Salaries by Age\n",
    "dev_x = [25, 26, 27, 28, 29, 30, 31, 32, 33, 34, 35]\n",
    "\n",
    "dev_y = [38496, 42000, 46752, 49320, 53200,\n",
    "         56000, 62316, 64928, 67317, 68748, 73752]\n",
    "\n",
    "plt.bar(dev_x, dev_y, color = 'k',  label=\"All dev\")\n",
    "plt.title(\"Developer salary (in USD) V/S Age\")\n",
    "plt.xlabel(\"Age\")\n",
    "plt.ylabel(\"Salary\")\n",
    "plt.legend()\n",
    "plt.tight_layout()\n",
    "plt.show()\n"
   ]
  },
  {
   "cell_type": "raw",
   "metadata": {},
   "source": [
    "Combining line plot with bar plot."
   ]
  },
  {
   "cell_type": "code",
   "execution_count": null,
   "metadata": {},
   "outputs": [],
   "source": [
    "from matplotlib import pyplot as plt\n",
    "plt.style.use('fivethirtyeight')\n",
    "\n",
    "# Median Developer Salaries by Age\n",
    "dev_x = [25, 26, 27, 28, 29, 30, 31, 32, 33, 34, 35]\n",
    "\n",
    "dev_y = [38496, 42000, 46752, 49320, 53200,\n",
    "         56000, 62316, 64928, 67317, 68748, 73752]\n",
    "\n",
    "plt.bar(dev_x, dev_y, color = 'k',  label=\"All dev\")\n",
    "\n",
    "# Median Python Developer Salaries by Age\n",
    "py_dev_x = [25, 26, 27, 28, 29, 30, 31, 32, 33, 34, 35]\n",
    "py_dev_y = [45372, 48876, 53850, 57287, 63016,\n",
    "            65998, 70003, 70000, 71496, 75370, 83640]\n",
    "\n",
    "\n",
    "# Median JavaScript Developer Salaries by Age\n",
    "js_dev_y = [37810, 43515, 46823, 49293, 53437,\n",
    "            56373, 62375, 66674, 68745, 68746, 74583]\n",
    "#line plot\n",
    "plt.plot(dev_x, py_dev_y, color = 'r', linewidth=3, label = 'Python')\n",
    "plt.plot(dev_x, js_dev_y, color = 'b', linewidth=3, label = 'JavaScript')\n",
    "plt.title(\"Developer salary (in USD) V/S Age\")\n",
    "plt.xlabel(\"Age\")\n",
    "plt.ylabel(\"Salary\")\n",
    "plt.legend()\n",
    "plt.tight_layout()\n",
    "plt.show()\n"
   ]
  },
  {
   "cell_type": "raw",
   "metadata": {},
   "source": [
    "Use bar plot for all , but it looks not clear"
   ]
  },
  {
   "cell_type": "code",
   "execution_count": 42,
   "metadata": {},
   "outputs": [
    {
     "data": {
      "image/png": "[encoded data removed]",
      "text/plain": [
       "<Figure size 432x288 with 1 Axes>"
      ]
     },
     "metadata": {},
     "output_type": "display_data"
    }
   ],
   "source": [
    "from matplotlib import pyplot as plt\n",
    "plt.style.use('fivethirtyeight')\n",
    "\n",
    "# Median Developer Salaries by Age\n",
    "dev_x = [25, 26, 27, 28, 29, 30, 31, 32, 33, 34, 35]\n",
    "\n",
    "dev_y = [38496, 42000, 46752, 49320, 53200,\n",
    "         56000, 62316, 64928, 67317, 68748, 73752]\n",
    "\n",
    "plt.bar(dev_x, dev_y, color = 'k',  label=\"All dev\")\n",
    "\n",
    "# Median Python Developer Salaries by Age\n",
    "py_dev_x = [25, 26, 27, 28, 29, 30, 31, 32, 33, 34, 35]\n",
    "py_dev_y = [45372, 48876, 53850, 57287, 63016,\n",
    "            65998, 70003, 70000, 71496, 75370, 83640]\n",
    "\n",
    "\n",
    "# Median JavaScript Developer Salaries by Age\n",
    "js_dev_y = [37810, 43515, 46823, 49293, 53437,\n",
    "            56373, 62375, 66674, 68745, 68746, 74583]\n",
    "#line plot\n",
    "plt.bar(dev_x, py_dev_y, color = 'r', linewidth=3, label = 'Python')\n",
    "plt.bar(dev_x, js_dev_y, color = 'b', linewidth=3, label = 'JavaScript')\n",
    "plt.title(\"Developer salary (in USD) V/S Age\")\n",
    "plt.xlabel(\"Age\")\n",
    "plt.ylabel(\"Salary\")\n",
    "plt.legend()\n",
    "plt.tight_layout()\n",
    "plt.show()\n"
   ]
  },
  {
   "cell_type": "raw",
   "metadata": {},
   "source": [
    "Above results not looks good, since all are overloaped, How to make Python, JS and all developer comes side by side."
   ]
  },
  {
   "cell_type": "code",
   "execution_count": null,
   "metadata": {},
   "outputs": [],
   "source": [
    "import numpy as np\n",
    "from matplotlib import pyplot as plt\n",
    "plt.style.use('fivethirtyeight')\n",
    "\n",
    "\n",
    "# Median Developer Salaries by Age\n",
    "dev_x = [25, 26, 27, 28, 29, 30, 31, 32, 33, 34, 35]\n",
    "\n",
    "dev_y = [38496, 42000, 46752, 49320, 53200,\n",
    "         56000, 62316, 64928, 67317, 68748, 73752]\n",
    "\n",
    "#It output array of index start from 0 to len(dev_x)\n",
    "x_index = np.arange(len(dev_x))\n",
    "print(x_index)\n",
    "\n",
    "#Consider width of bar, so that first bar will shiftted to left and right bar will shiffted right\n",
    "#so that middle one stay at middle.\n",
    "width = 0.25 #by defalut width of bar is 0.8\n",
    "\n",
    "#instead of dev_x consider our index array in all the place\n",
    "plt.bar(x_index - width, dev_y, width=width, color = 'k',  label=\"All dev\")\n",
    "\n",
    "# Median Python Developer Salaries by Age\n",
    "py_dev_x = [25, 26, 27, 28, 29, 30, 31, 32, 33, 34, 35]\n",
    "py_dev_y = [45372, 48876, 53850, 57287, 63016,\n",
    "            65998, 70003, 70000, 71496, 75370, 83640]\n",
    "\n",
    "\n",
    "# Median JavaScript Developer Salaries by Age\n",
    "js_dev_y = [37810, 43515, 46823, 49293, 53437,\n",
    "            56373, 62375, 66674, 68745, 68746, 74583]\n",
    "#line plot\n",
    "plt.bar(x_index, py_dev_y, width = width, color = 'r', linewidth=3, label = 'Python')\n",
    "plt.bar(x_index + width, js_dev_y, width=width, color = 'b', linewidth=3, label = 'JavaScript')\n",
    "plt.title(\"Developer salary (in USD) V/S Age\")\n",
    "plt.xlabel(\"Age\")\n",
    "plt.ylabel(\"Salary\")\n",
    "plt.legend()\n",
    "plt.tight_layout()\n",
    "plt.show()\n"
   ]
  },
  {
   "cell_type": "raw",
   "metadata": {},
   "source": [
    "But in above bar plot X axis showing index insted of Age. How to fix ? Using plt.xticks()"
   ]
  },
  {
   "cell_type": "code",
   "execution_count": null,
   "metadata": {},
   "outputs": [],
   "source": [
    "import numpy as np\n",
    "from matplotlib import pyplot as plt\n",
    "plt.style.use('fivethirtyeight')\n",
    "\n",
    "\n",
    "# Median Developer Salaries by Age\n",
    "dev_x = [25, 26, 27, 28, 29, 30, 31, 32, 33, 34, 35]\n",
    "\n",
    "dev_y = [38496, 42000, 46752, 49320, 53200,\n",
    "         56000, 62316, 64928, 67317, 68748, 73752]\n",
    "\n",
    "#It output array of index start from 0 to len(dev_x)\n",
    "x_index = np.arange(len(dev_x))\n",
    "print(x_index)\n",
    "\n",
    "#Consider width of bar, so that first bar will shiftted to left and right bar will shiffted right\n",
    "#so that middle one stay at middle.\n",
    "width = 0.25 #by defalut width of bar is 0.8\n",
    "\n",
    "#instead of dev_x consider our index array in all the place\n",
    "plt.bar(x_index - width, dev_y, width=width, color = 'k',  label=\"All dev\")\n",
    "\n",
    "# Median Python Developer Salaries by Age\n",
    "py_dev_x = [25, 26, 27, 28, 29, 30, 31, 32, 33, 34, 35]\n",
    "py_dev_y = [45372, 48876, 53850, 57287, 63016,\n",
    "            65998, 70003, 70000, 71496, 75370, 83640]\n",
    "\n",
    "\n",
    "# Median JavaScript Developer Salaries by Age\n",
    "js_dev_y = [37810, 43515, 46823, 49293, 53437,\n",
    "            56373, 62375, 66674, 68745, 68746, 74583]\n",
    "#line plot\n",
    "plt.bar(x_index, py_dev_y, width = width, color = 'r', linewidth=3, label = 'Python')\n",
    "plt.bar(x_index + width, js_dev_y, width=width, color = 'b', linewidth=3, label = 'JavaScript')\n",
    "\n",
    "#This will fix X-axis index into Age\n",
    "plt.xticks(ticks=x_index, label=dev_x)\n",
    "plt.title(\"Developer salary (in USD) V/S Age\")\n",
    "\n",
    "\n",
    "\n",
    "plt.xlabel(\"Age\")\n",
    "plt.ylabel(\"Salary\")\n",
    "plt.legend()\n",
    "plt.tight_layout()\n",
    "plt.show()\n"
   ]
  },
  {
   "cell_type": "raw",
   "metadata": {},
   "source": [
    "Read from CSV file and plot horizantal bar chart\n",
    "\n",
    "Mutiple way to load CSV:\n",
    "1> using standard CSV module\n",
    "2> read_csv method from pands\n",
    "3> load_txt method from numpy"
   ]
  },
  {
   "cell_type": "code",
   "execution_count": 45,
   "metadata": {},
   "outputs": [
    {
     "name": "stdout",
     "output_type": "stream",
     "text": [
      "['HTMLCSS', 'Java', 'JavaScript', 'Python']\n"
     ]
    }
   ],
   "source": [
    "from matplotlib import pyplot as plt\n",
    "import numpy as np\n",
    "import csv\n",
    "\n",
    "with open(r'c:\\Users\\jmallesh\\data.csv.txt') as csv_file:\n",
    "    csv_reader = csv.DictReader(csv_file)\n",
    "    \n",
    "    data = next(csv_reader)\n",
    "    print(data['LanguagesWorkedWith'].split(';'))\n",
    "\n",
    "\n"
   ]
  },
  {
   "cell_type": "raw",
   "metadata": {},
   "source": [
    "How counter works in python"
   ]
  },
  {
   "cell_type": "code",
   "execution_count": 7,
   "metadata": {},
   "outputs": [
    {
     "name": "stdout",
     "output_type": "stream",
     "text": [
      "Counter({'python': 1, 'Javascript': 1})\n",
      "Counter({'python': 1, 'Javascript': 1, 'C++': 1})\n",
      "Counter({'Javascript': 101, 'python': 11, 'C++': 1})\n",
      "Counter({'Javascript': 101, 'python': 11, '+': 2, 'C++': 1, 'C': 1})\n"
     ]
    }
   ],
   "source": [
    "from collections import Counter\n",
    "c = Counter(['python', 'Javascript'])\n",
    "print(c)\n",
    "c.update(['C++'])\n",
    "print(c)\n",
    "c.update({'python':10, 'Javascript':100})\n",
    "print(c)\n",
    "\n",
    "\n",
    "print(c)"
   ]
  },
  {
   "cell_type": "code",
   "execution_count": 20,
   "metadata": {},
   "outputs": [
    {
     "name": "stderr",
     "output_type": "stream",
     "text": [
      "No handles with labels found to put in legend.\n"
     ]
    },
    {
     "name": "stdout",
     "output_type": "stream",
     "text": [
      "Counter({'JavaScript': 33935, 'HTMLCSS': 31854, 'SQL': 27317, 'Python': 20921, 'Java': 20511, 'BashShellPowerShell': 18454, 'C#': 15574, 'PHP': 13148, 'C++': 11881, 'TypeScript': 10677, 'C': 10357, 'Other(s)': 4607, 'Ruby': 4288, 'Go': 4096, 'Assembly': 3334, 'Swift': 3274, 'Kotlin': 3217, 'R': 2862, 'VBA': 2769, 'Objective-C': 2391, 'Scala': 1866, 'Rust': 1596, 'Dart': 960, 'Clojure': 706, 'Elixir': 698, 'WebAssembly': 596, 'F#': 554, 'Erlang': 443, 'TypeScrip': 1})\n",
      "Most common language\n",
      "[('JavaScript', 33935), ('HTMLCSS', 31854), ('SQL', 27317), ('Python', 20921), ('Java', 20511), ('BashShellPowerShell', 18454), ('C#', 15574), ('PHP', 13148), ('C++', 11881), ('TypeScript', 10677)]\n",
      "['JavaScript', 'HTMLCSS', 'SQL', 'Python', 'Java', 'BashShellPowerShell', 'C#', 'PHP', 'C++', 'TypeScript']\n",
      "[33935, 31854, 27317, 20921, 20511, 18454, 15574, 13148, 11881, 10677]\n"
     ]
    },
    {
     "data": {
      "image/png": "[encoded data removed]",
      "text/plain": [
       "<Figure size 432x288 with 1 Axes>"
      ]
     },
     "metadata": {
      "needs_background": "light"
     },
     "output_type": "display_data"
    }
   ],
   "source": [
    "from matplotlib import pyplot as plt\n",
    "import numpy as np\n",
    "import csv\n",
    "from collections import Counter\n",
    "\n",
    "with open(r'C:\\Users\\jmallesh\\data.csv.txt') as csv_file:\n",
    "    csv_reader = csv.DictReader(csv_file)\n",
    "    language_counter = Counter()    \n",
    "    for row in csv_reader:\n",
    "        language_counter.update(row['LanguagesWorkedWith'].split(';'))\n",
    "    \n",
    "print(language_counter)\n",
    "print(\"Most common language\")\n",
    "print(language_counter.most_common(10))\n",
    "\n",
    "\n",
    "language = []\n",
    "popularity = []\n",
    "\n",
    "for item in language_counter.most_common(10):\n",
    "    language.append(item[0])\n",
    "    popularity.append(item[1])\n",
    "\n",
    "print(language)\n",
    "print(popularity)\n",
    "\n",
    "plt.bar(language, popularity)\n",
    "plt.title(\"Programing Language Popularity\")\n",
    "plt.xlabel(\"Popularity\")\n",
    "plt.ylabel('Programing Language')\n",
    "plt.legend()\n",
    "plt.tight_layout()\n",
    "plt.show()\n",
    "        "
   ]
  },
  {
   "cell_type": "code",
   "execution_count": 29,
   "metadata": {},
   "outputs": [
    {
     "name": "stdout",
     "output_type": "stream",
     "text": [
      "Counter({'JavaScript': 33935, 'HTMLCSS': 31854, 'SQL': 27317, 'Python': 20921, 'Java': 20511, 'BashShellPowerShell': 18454, 'C#': 15574, 'PHP': 13148, 'C++': 11881, 'TypeScript': 10677, 'C': 10357, 'Other(s)': 4607, 'Ruby': 4288, 'Go': 4096, 'Assembly': 3334, 'Swift': 3274, 'Kotlin': 3217, 'R': 2862, 'VBA': 2769, 'Objective-C': 2391, 'Scala': 1866, 'Rust': 1596, 'Dart': 960, 'Clojure': 706, 'Elixir': 698, 'WebAssembly': 596, 'F#': 554, 'Erlang': 443, 'TypeScrip': 1})\n",
      "['JavaScript', 'HTMLCSS', 'SQL', 'Python', 'Java', 'BashShellPowerShell', 'C#', 'PHP', 'C++', 'TypeScript']\n",
      "[33935, 31854, 27317, 20921, 20511, 18454, 15574, 13148, 11881, 10677]\n"
     ]
    },
    {
     "data": {
      "image/png": "[encoded data removed]",
      "text/plain": [
       "<Figure size 432x288 with 1 Axes>"
      ]
     },
     "metadata": {
      "needs_background": "light"
     },
     "output_type": "display_data"
    }
   ],
   "source": [
    "#Horitizantal chart:\n",
    "from matplotlib import pyplot as plt\n",
    "import numpy as np\n",
    "import csv\n",
    "from collections import Counter\n",
    "\n",
    "with open(r'C:\\Users\\jmallesh\\data.csv.txt') as csv_file:\n",
    "    csv_reader = csv.DictReader(csv_file)\n",
    "    lancounter = Counter()\n",
    "    \n",
    "    for row in csv_reader:\n",
    "        lancounter.update(row['LanguagesWorkedWith'].split(';'))\n",
    "    \n",
    "print(lancounter)\n",
    "\n",
    "lan = []\n",
    "popularity = []\n",
    "\n",
    "for item in lancounter.most_common(10):\n",
    "    lan.append(item[0])\n",
    "    popularity.append(item[1])\n",
    "\n",
    "print(lan)\n",
    "print(popularity)\n",
    "\n",
    "lan.reverse()\n",
    "popularity.reverse()\n",
    "\n",
    "plt.barh(lan, popularity)\n",
    "plt.title('Lan V/S Popularity')\n",
    "plt.xlabel('Popularity')\n",
    "plt.ylabel('Progrm.Lan')\n",
    "plt.tight_layout()\n",
    "plt.show()\n",
    "\n",
    "    \n",
    "\n",
    "    \n",
    "\n"
   ]
  },
  {
   "cell_type": "raw",
   "metadata": {},
   "source": [
    "Read CSV file using pands"
   ]
  },
  {
   "cell_type": "code",
   "execution_count": 45,
   "metadata": {},
   "outputs": [
    {
     "name": "stdout",
     "output_type": "stream",
     "text": [
      "[('JavaScript', 33935), ('HTMLCSS', 31854), ('SQL', 27317), ('Python', 20921), ('Java', 20511)]\n",
      "[33935, 31854, 27317, 20921, 20511]\n",
      "['JavaScript', 'HTMLCSS', 'SQL', 'Python', 'Java']\n"
     ]
    },
    {
     "data": {
      "image/png": "[encoded data removed]",
      "text/plain": [
       "<Figure size 432x288 with 1 Axes>"
      ]
     },
     "metadata": {},
     "output_type": "display_data"
    }
   ],
   "source": [
    "from matplotlib import pyplot as plt\n",
    "import numpy as np\n",
    "import pandas as pd\n",
    "from collections import Counter\n",
    "\n",
    "data = pd.read_csv('data.csv.txt')\n",
    "#print(data)\n",
    "\n",
    "ids = data['Responder_id']\n",
    "progrms = data['LanguagesWorkedWith']\n",
    "\n",
    "#print(ids)\n",
    "#print(progrms)\n",
    "lancounter = Counter()\n",
    "\n",
    "for pro in progrms:\n",
    "    lancounter.update(pro.split(';'))\n",
    "\n",
    "#print(lancounter)\n",
    "temp = lancounter.most_common(5)\n",
    "print(temp) \n",
    "\n",
    "l = []\n",
    "p = []\n",
    "for tm in temp:\n",
    "    l.append(tm[1])\n",
    "    p.append(tm[0])\n",
    "\n",
    "print(l)\n",
    "print(p)\n",
    "\n",
    "plt.barh(p, l)\n",
    "plt.title('Prog language popularity')\n",
    "plt.xlabel('Popularity')\n",
    "plt.ylabel('Progm Language')\n",
    "plt.tight_layout()\n",
    "\n",
    "plt.show()\n"
   ]
  }
 ],
 "metadata": {
  "kernelspec": {
   "display_name": "Python 3",
   "language": "python",
   "name": "python3"
  },
  "language_info": {
   "codemirror_mode": {
    "name": "ipython",
    "version": 3
   },
   "file_extension": ".py",
   "mimetype": "text/x-python",
   "name": "python",
   "nbconvert_exporter": "python",
   "pygments_lexer": "ipython3",
   "version": "3.7.4"
  }
 },
 "nbformat": 4,
 "nbformat_minor": 2
}
